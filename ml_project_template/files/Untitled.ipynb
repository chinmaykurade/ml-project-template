{
 "cells": [
  {
   "cell_type": "code",
   "execution_count": 1,
   "id": "5b736549-d3f9-42f0-b927-cf2e6787a9e1",
   "metadata": {},
   "outputs": [],
   "source": [
    "from pathlib import Path\n",
    "from collections import defaultdict\n",
    "import string\n",
    "\n",
    "class SafeDict(dict):\n",
    "    def __missing__(self, key):\n",
    "        print(key)\n",
    "        return '{' + key + '}'"
   ]
  },
  {
   "cell_type": "code",
   "execution_count": 2,
   "id": "933afeeb-4bc8-4354-ae09-c5becdab1499",
   "metadata": {},
   "outputs": [
    {
     "data": {
      "text/plain": [
       "WindowsPath('D:/Code/Learning/ml-project-template')"
      ]
     },
     "execution_count": 2,
     "metadata": {},
     "output_type": "execute_result"
    }
   ],
   "source": [
    "root_path = Path.cwd()\n",
    "root_path"
   ]
  },
  {
   "cell_type": "code",
   "execution_count": 3,
   "id": "39dea945-e1f3-470f-a8ab-52a53b5da8f0",
   "metadata": {},
   "outputs": [],
   "source": [
    "packages_path = root_path / 'packages'\n",
    "scripts_path = root_path / 'scripts'"
   ]
  },
  {
   "cell_type": "code",
   "execution_count": 43,
   "id": "8fd20f2b-7b45-4749-bd6e-ba6b4f52f705",
   "metadata": {},
   "outputs": [],
   "source": [
    "output_path_root = root_path.parent / 'test'\n",
    "output_path_root.mkdir()"
   ]
  },
  {
   "cell_type": "code",
   "execution_count": 44,
   "id": "d12c6ad6-3e47-4885-b60b-39e75d51e1ac",
   "metadata": {},
   "outputs": [
    {
     "name": "stdout",
     "output_type": "stream",
     "text": [
      ".dockerignore\n",
      ".gitignore\n",
      "create_lib.py\n",
      "Dockerfile\n",
      "D:\\Code\\Learning\\test\\packages\n",
      "D:\\Code\\Learning\\test\\packages\\ml_api\n",
      "packages\\ml_api\\pytest.ini\n",
      "D:\\Code\\Learning\\test\\packages\\ml_api\\tests\n",
      "packages\\ml_api\\tests\\__init__.py\n",
      "packages\\ml_api\\tests\\test_views.py\n",
      "D:\\Code\\Learning\\test\\packages\\hello\n",
      "packages\\recoform\\MANIFEST.in\n",
      "D:\\Code\\Learning\\test\\packages\\hello\\hello\n",
      "packages\\recoform\\recoform\\__init__.py\n",
      "D:\\Code\\Learning\\test\\packages\\hello\\hello\\config\n",
      "packages\\recoform\\recoform\\config\\__init__.py\n",
      "packages\\recoform\\recoform\\config\\config.py\n",
      "packages\\recoform\\recoform\\config\\logging_config.py\n",
      "D:\\Code\\Learning\\test\\packages\\hello\\hello\\datasets\n",
      "packages\\recoform\\recoform\\datasets\\__init__.py\n",
      "D:\\Code\\Learning\\test\\packages\\hello\\hello\\external_models\n",
      "packages\\recoform\\recoform\\external_models\\__init__.py\n",
      "D:\\Code\\Learning\\test\\packages\\hello\\hello\\notebooks\n",
      "packages\\recoform\\recoform\\pipeline.py\n",
      "packages\\recoform\\recoform\\predict.py\n",
      "D:\\Code\\Learning\\test\\packages\\hello\\hello\\processing\n",
      "packages\\recoform\\recoform\\processing\\__init__.py\n",
      "packages\\recoform\\recoform\\processing\\data_management.py\n",
      "packages\\recoform\\recoform\\processing\\errors.py\n",
      "packages\\recoform\\recoform\\processing\\features.py\n",
      "packages\\recoform\\recoform\\processing\\preprocessors.py\n",
      "packages\\recoform\\recoform\\processing\\validation.py\n",
      "packages\\recoform\\recoform\\train_pipeline.py\n",
      "D:\\Code\\Learning\\test\\packages\\hello\\hello\\trained_models\n",
      "packages\\recoform\\recoform\\trained_models\\__init__.py\n",
      "packages\\recoform\\recoform\\VERSION\n",
      "packages\\recoform\\requirements.txt\n",
      "packages\\recoform\\setup.py\n",
      "D:\\Code\\Learning\\test\\packages\\hello\\tests\n",
      "packages\\recoform\\tests\\__init__.py\n",
      "packages\\recoform\\tests\\conftest.py\n",
      "packages\\recoform\\tests\\test_data_management.py\n",
      "packages\\recoform\\tox.ini\n",
      "Procfile\n",
      "README.md\n",
      "requirements.txt\n",
      "runtime.txt\n",
      "D:\\Code\\Learning\\test\\scripts\n",
      "Untitled.ipynb\n"
     ]
    }
   ],
   "source": [
    "for path in sorted(root_path.rglob('*')):\n",
    "    first_dir = path.relative_to(root_path).parts [0]\n",
    "    if first_dir == '.git' or first_dir == '.ipynb_checkpoints' or path.suffix == '.sh':\n",
    "        continue\n",
    "    if path.is_dir():\n",
    "        output_path_dir = output_path_root/ Path(*[p if p!='recoform' else 'hello' for p in path.relative_to(root_path).parts])\n",
    "        print(output_path_dir)\n",
    "        output_path_dir.mkdir()\n",
    "        continue\n",
    "    print(path.relative_to(root_path))\n",
    "    text = path.read_text()\n",
    "    # print(text)\n",
    "    text = text.replace('recoform', 'hello')\n",
    "    \n",
    "    output_path = output_path_root / Path(*[p if p!='recoform' else 'hello' for p in path.relative_to(root_path).parts])\n",
    "    output_path.write_text(text)"
   ]
  },
  {
   "cell_type": "code",
   "execution_count": 35,
   "id": "38d0a288-1c61-4931-b67f-95f54a672277",
   "metadata": {},
   "outputs": [
    {
     "data": {
      "text/plain": [
       "['D:\\\\',\n",
       " 'Code',\n",
       " 'Learning',\n",
       " 'ml-project-template',\n",
       " 'packages',\n",
       " 'hello',\n",
       " 'hello']"
      ]
     },
     "execution_count": 35,
     "metadata": {},
     "output_type": "execute_result"
    }
   ],
   "source": [
    "[p if p!='recoform' else 'hello' for p in path.parts]"
   ]
  },
  {
   "cell_type": "code",
   "execution_count": 37,
   "id": "429343ca-0377-415a-903b-0109857dae8f",
   "metadata": {},
   "outputs": [
    {
     "data": {
      "text/plain": [
       "WindowsPath('D:/Code/Learning/ml-project-template/packages/hello/hello')"
      ]
     },
     "execution_count": 37,
     "metadata": {},
     "output_type": "execute_result"
    }
   ],
   "source": [
    "Path(*[p if p!='recoform' else 'hello' for p in path.parts])"
   ]
  },
  {
   "cell_type": "code",
   "execution_count": 17,
   "id": "c57c15b3-e2e2-4304-a709-99329d32a365",
   "metadata": {},
   "outputs": [
    {
     "name": "stdout",
     "output_type": "stream",
     "text": [
      "D:\\Code\\Learning\\test\\hello\n"
     ]
    }
   ],
   "source": [
    "if path.relative_to(root_path).parts[-1] == 'recoform':\n",
    "    output_path_dir = output_path_root/ path.relative_to(root_path).parent / 'hello'"
   ]
  },
  {
   "cell_type": "code",
   "execution_count": 50,
   "id": "5ab5c022-80b3-428f-9cfe-9321f74299d9",
   "metadata": {},
   "outputs": [
    {
     "data": {
      "text/plain": [
       "WindowsPath('D:/Code/Learning/ml-project-template/Untitled.ipynb')"
      ]
     },
     "execution_count": 50,
     "metadata": {},
     "output_type": "execute_result"
    }
   ],
   "source": [
    "output_path_root / path"
   ]
  },
  {
   "cell_type": "code",
   "execution_count": 52,
   "id": "13e4bd99-858e-4b80-b31e-97fb84ee140a",
   "metadata": {},
   "outputs": [
    {
     "data": {
      "text/plain": [
       "WindowsPath('D:/Code/Learning/test/Untitled.ipynb')"
      ]
     },
     "execution_count": 52,
     "metadata": {},
     "output_type": "execute_result"
    }
   ],
   "source": [
    "output_path_root / path.relative_to(root_path)"
   ]
  },
  {
   "cell_type": "code",
   "execution_count": 51,
   "id": "098e9853-da66-4d15-b841-a072bd13e140",
   "metadata": {},
   "outputs": [
    {
     "data": {
      "text/plain": [
       "WindowsPath('D:/Code/Learning/ml-project-template/Untitled.ipynb')"
      ]
     },
     "execution_count": 51,
     "metadata": {},
     "output_type": "execute_result"
    }
   ],
   "source": [
    "path"
   ]
  },
  {
   "cell_type": "code",
   "execution_count": null,
   "id": "bcfdbd99-5b88-4c07-92f2-5631d77d020b",
   "metadata": {},
   "outputs": [],
   "source": []
  }
 ],
 "metadata": {
  "kernelspec": {
   "display_name": "Python 3 (ipykernel)",
   "language": "python",
   "name": "python3"
  },
  "language_info": {
   "codemirror_mode": {
    "name": "ipython",
    "version": 3
   },
   "file_extension": ".py",
   "mimetype": "text/x-python",
   "name": "python",
   "nbconvert_exporter": "python",
   "pygments_lexer": "ipython3",
   "version": "3.9.7"
  }
 },
 "nbformat": 4,
 "nbformat_minor": 5
}
